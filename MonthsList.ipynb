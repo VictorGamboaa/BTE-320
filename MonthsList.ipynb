{
  "nbformat": 4,
  "nbformat_minor": 0,
  "metadata": {
    "colab": {
      "provenance": [],
      "authorship_tag": "ABX9TyN21fYABpr/wPRL+giS9L34",
      "include_colab_link": true
    },
    "kernelspec": {
      "name": "python3",
      "display_name": "Python 3"
    },
    "language_info": {
      "name": "python"
    }
  },
  "cells": [
    {
      "cell_type": "markdown",
      "metadata": {
        "id": "view-in-github",
        "colab_type": "text"
      },
      "source": [
        "<a href=\"https://colab.research.google.com/github/VictorGamboaa/BTE-320/blob/main/MonthsList.ipynb\" target=\"_parent\"><img src=\"https://colab.research.google.com/assets/colab-badge.svg\" alt=\"Open In Colab\"/></a>"
      ]
    },
    {
      "cell_type": "code",
      "execution_count": 1,
      "metadata": {
        "colab": {
          "base_uri": "https://localhost:8080/"
        },
        "id": "Fys5OtN120ms",
        "outputId": "b9517dda-a3d7-4471-e391-395c4a7b16a8"
      },
      "outputs": [
        {
          "output_type": "stream",
          "name": "stdout",
          "text": [
            "Alice\n",
            "Bob\n",
            "Tracy\n",
            "Erik\n",
            "91\n",
            "88\n",
            "93\n",
            "90\n",
            "Key: Alice, value: 91\n",
            "Key: Bob, value: 88\n",
            "Key: Tracy, value: 93\n",
            "Key: Erik, value: 90\n"
          ]
        }
      ],
      "source": [
        "grades = {'Alice': 91 , 'Bob': 88 , 'Tracy': 93 , 'Erik': 90}\n",
        "\n",
        "for key in grades.keys():\n",
        "  print(key)\n",
        "\n",
        "for values in grades.values():\n",
        "  print(values)\n",
        "\n",
        "for key, values in grades.items():\n",
        "  print(f'Key: {key}, value: {values}')\n"
      ]
    }
  ]
}