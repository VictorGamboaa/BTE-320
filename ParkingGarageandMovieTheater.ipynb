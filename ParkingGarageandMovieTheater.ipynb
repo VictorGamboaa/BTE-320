{
  "nbformat": 4,
  "nbformat_minor": 0,
  "metadata": {
    "colab": {
      "provenance": [],
      "authorship_tag": "ABX9TyNHIl8tevgiENFUhuesABlQ",
      "include_colab_link": true
    },
    "kernelspec": {
      "name": "python3",
      "display_name": "Python 3"
    },
    "language_info": {
      "name": "python"
    }
  },
  "cells": [
    {
      "cell_type": "markdown",
      "metadata": {
        "id": "view-in-github",
        "colab_type": "text"
      },
      "source": [
        "<a href=\"https://colab.research.google.com/github/VictorGamboaa/BTE-320/blob/main/ParkingGarageandMovieTheater.ipynb\" target=\"_parent\"><img src=\"https://colab.research.google.com/assets/colab-badge.svg\" alt=\"Open In Colab\"/></a>"
      ]
    },
    {
      "cell_type": "markdown",
      "source": [
        "Parking garage charges 5 plus\n",
        "2.5 for each hour parked. Mimimum fee is\n",
        "20. Write a program that generates a table with hours parked and the corresponsding fee, from 1 to 8 hours"
      ],
      "metadata": {
        "id": "NiDquczoQbXr"
      }
    },
    {
      "cell_type": "code",
      "execution_count": 4,
      "metadata": {
        "colab": {
          "base_uri": "https://localhost:8080/"
        },
        "id": "tHjTikyjQKQp",
        "outputId": "c8e5bcd1-da82-4dd7-92bf-db2ac4dccbbf"
      },
      "outputs": [
        {
          "output_type": "stream",
          "name": "stdout",
          "text": [
            "Hours 1 - $ 10\n",
            "Hours 2 - $ 10\n",
            "Hours 3 - $ 12.5\n",
            "Hours 4 - $ 15.0\n",
            "Hours 5 - $ 17.5\n",
            "Hours 6 - $ 20\n",
            "Hours 7 - $ 20\n",
            "Hours 8 - $ 20\n"
          ]
        }
      ],
      "source": [
        "for hour in range (1, 9):\n",
        "  price = (hour*2.5)+5\n",
        "  if price <= 10:\n",
        "    price =10\n",
        "  if price >= 20:\n",
        "    price = 20\n",
        "  print ('Hours', hour, '- $', price)"
      ]
    },
    {
      "cell_type": "markdown",
      "source": [
        "Movie theather ex. Each ticket is 10 without ads, 20 people are expected to attend. Addtional people may attend based on advertising estimated to be; additional = 2*round(dollars**.5). In addition theres a 200 fixed cost"
      ],
      "metadata": {
        "id": "4VzXbzq-QnFL"
      }
    },
    {
      "cell_type": "code",
      "source": [
        "x=10\n",
        "a=20\n",
        "f=200\n",
        "for n in range (0,201, 25):\n",
        "  additional = 2*round(n**.5)\n",
        "  revenue = (additional + a)*x-f-n\n",
        "  print (n, revenue)"
      ],
      "metadata": {
        "colab": {
          "base_uri": "https://localhost:8080/"
        },
        "id": "hID7sjteQ99x",
        "outputId": "02f33653-916f-46ad-88b6-45138777058b"
      },
      "execution_count": 3,
      "outputs": [
        {
          "output_type": "stream",
          "name": "stdout",
          "text": [
            "0 0\n",
            "25 75\n",
            "50 90\n",
            "75 105\n",
            "100 100\n",
            "125 95\n",
            "150 90\n",
            "175 85\n",
            "200 80\n"
          ]
        }
      ]
    },
    {
      "cell_type": "code",
      "source": [
        "down = 100000\n",
        "deposit = 1000\n",
        "amount = 5000\n",
        "n_months = 0\n",
        "\n",
        "while deposit < down:\n",
        "  deposit = deposit + amount\n",
        "  n_months = n_months + 1\n",
        "  print (deposit, n_months)"
      ],
      "metadata": {
        "id": "sKLBgBxARJKO",
        "outputId": "1fde516c-6338-43a7-c551-0244acfd5cbe",
        "colab": {
          "base_uri": "https://localhost:8080/"
        }
      },
      "execution_count": 2,
      "outputs": [
        {
          "output_type": "stream",
          "name": "stdout",
          "text": [
            "6000 1\n",
            "11000 2\n",
            "16000 3\n",
            "21000 4\n",
            "26000 5\n",
            "31000 6\n",
            "36000 7\n",
            "41000 8\n",
            "46000 9\n",
            "51000 10\n",
            "56000 11\n",
            "61000 12\n",
            "66000 13\n",
            "71000 14\n",
            "76000 15\n",
            "81000 16\n",
            "86000 17\n",
            "91000 18\n",
            "96000 19\n",
            "101000 20\n"
          ]
        }
      ]
    }
  ]
}