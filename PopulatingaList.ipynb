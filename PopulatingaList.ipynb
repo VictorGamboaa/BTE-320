{
  "nbformat": 4,
  "nbformat_minor": 0,
  "metadata": {
    "colab": {
      "provenance": [],
      "authorship_tag": "ABX9TyO4O+TfvDH01qhFZhjdgeKE",
      "include_colab_link": true
    },
    "kernelspec": {
      "name": "python3",
      "display_name": "Python 3"
    },
    "language_info": {
      "name": "python"
    }
  },
  "cells": [
    {
      "cell_type": "markdown",
      "metadata": {
        "id": "view-in-github",
        "colab_type": "text"
      },
      "source": [
        "<a href=\"https://colab.research.google.com/github/VictorGamboaa/BTE-320/blob/main/PopulatingaList.ipynb\" target=\"_parent\"><img src=\"https://colab.research.google.com/assets/colab-badge.svg\" alt=\"Open In Colab\"/></a>"
      ]
    },
    {
      "cell_type": "code",
      "execution_count": 2,
      "metadata": {
        "colab": {
          "base_uri": "https://localhost:8080/"
        },
        "id": "SAc1aApCRmEh",
        "outputId": "2f8aaa91-302c-4778-a8ad-11900f05d743"
      },
      "outputs": [
        {
          "output_type": "stream",
          "name": "stdout",
          "text": [
            "Enter a value: 1\n",
            "Enter a value: 9\n",
            "Enter a value: 5\n",
            "Enter a value: 0\n",
            "[1, 9, 5]\n"
          ]
        }
      ],
      "source": [
        "a = 1\n",
        "L = []\n",
        "\n",
        "a = int(input('Enter a value: '))\n",
        "while a !=0:\n",
        "  L.append(a)\n",
        "  a = int(input('Enter a value: '))\n",
        "print(L)"
      ]
    }
  ]
}