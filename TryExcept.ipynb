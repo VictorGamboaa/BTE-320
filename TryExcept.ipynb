{
  "nbformat": 4,
  "nbformat_minor": 0,
  "metadata": {
    "colab": {
      "provenance": [],
      "authorship_tag": "ABX9TyPlNReFsOq0+kVmLJtqpmCl",
      "include_colab_link": true
    },
    "kernelspec": {
      "name": "python3",
      "display_name": "Python 3"
    },
    "language_info": {
      "name": "python"
    }
  },
  "cells": [
    {
      "cell_type": "markdown",
      "metadata": {
        "id": "view-in-github",
        "colab_type": "text"
      },
      "source": [
        "<a href=\"https://colab.research.google.com/github/VictorGamboaa/BTE-320/blob/main/TryExcept.ipynb\" target=\"_parent\"><img src=\"https://colab.research.google.com/assets/colab-badge.svg\" alt=\"Open In Colab\"/></a>"
      ]
    },
    {
      "cell_type": "code",
      "execution_count": 1,
      "metadata": {
        "id": "gtwkaHFyP0Jd",
        "outputId": "54f62a67-9c6c-4655-cb47-381b67c778ec",
        "colab": {
          "base_uri": "https://localhost:8080/"
        }
      },
      "outputs": [
        {
          "output_type": "stream",
          "name": "stdout",
          "text": [
            "List is empty\n"
          ]
        }
      ],
      "source": [
        "def avg(alist):\n",
        "  try:\n",
        "    print(sum(alist) / len(alist))\n",
        "  except ZeroDivisionError:\n",
        "    print('List is empty')\n",
        "  except TypeError:\n",
        "    print('The list must be filled with only numbers')\n",
        "\n",
        "avg([])"
      ]
    }
  ]
}