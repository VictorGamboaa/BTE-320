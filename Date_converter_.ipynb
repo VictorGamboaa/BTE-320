{
  "nbformat": 4,
  "nbformat_minor": 0,
  "metadata": {
    "colab": {
      "provenance": [],
      "authorship_tag": "ABX9TyNuO1OQr3lqCXoNhTogzeD2",
      "include_colab_link": true
    },
    "kernelspec": {
      "name": "python3",
      "display_name": "Python 3"
    },
    "language_info": {
      "name": "python"
    }
  },
  "cells": [
    {
      "cell_type": "markdown",
      "metadata": {
        "id": "view-in-github",
        "colab_type": "text"
      },
      "source": [
        "<a href=\"https://colab.research.google.com/github/VictorGamboaa/BTE-320/blob/main/Date_converter_.ipynb\" target=\"_parent\"><img src=\"https://colab.research.google.com/assets/colab-badge.svg\" alt=\"Open In Colab\"/></a>"
      ]
    },
    {
      "cell_type": "code",
      "execution_count": 1,
      "metadata": {
        "colab": {
          "base_uri": "https://localhost:8080/"
        },
        "id": "rFxBzfL-_W4w",
        "outputId": "701be590-6c76-4395-eb8b-e88f0167f6d9"
      },
      "outputs": [
        {
          "output_type": "stream",
          "name": "stdout",
          "text": [
            "Enter date:02/21/2024\n",
            "Todays month is 02, it is the 21 day, and the year is 2024\n"
          ]
        }
      ],
      "source": [
        "user_input = input('Enter date:')\n",
        "month = user_input[:2]\n",
        "day = user_input[3:5]\n",
        "year = user_input[6:]\n",
        "\n",
        "print(f'Todays month is {month}, it is the {day} day, and the year is {year}')\n"
      ]
    }
  ]
}