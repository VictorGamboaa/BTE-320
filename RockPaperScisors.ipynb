{
  "nbformat": 4,
  "nbformat_minor": 0,
  "metadata": {
    "colab": {
      "provenance": [],
      "authorship_tag": "ABX9TyPqCvnLsN+dQvC4hRLonbzA",
      "include_colab_link": true
    },
    "kernelspec": {
      "name": "python3",
      "display_name": "Python 3"
    },
    "language_info": {
      "name": "python"
    }
  },
  "cells": [
    {
      "cell_type": "markdown",
      "metadata": {
        "id": "view-in-github",
        "colab_type": "text"
      },
      "source": [
        "<a href=\"https://colab.research.google.com/github/VictorGamboaa/BTE-320/blob/main/RockPaperScisors.ipynb\" target=\"_parent\"><img src=\"https://colab.research.google.com/assets/colab-badge.svg\" alt=\"Open In Colab\"/></a>"
      ]
    },
    {
      "cell_type": "code",
      "execution_count": 2,
      "metadata": {
        "colab": {
          "base_uri": "https://localhost:8080/"
        },
        "id": "o6egdQaaPNaG",
        "outputId": "2da17a68-ca85-4f04-dc9c-59065b00c063"
      },
      "outputs": [
        {
          "name": "stdout",
          "output_type": "stream",
          "text": [
            "Do you want to play the game y/n - y\n",
            "Enter rock, paper, or scissors: rock\n",
            "Tie! player chose rock and computer chose rock\n",
            "Do you want to play the game y/n - y\n",
            "Enter rock, paper, or scissors: rock\n",
            "player wins! player chose rock and computer chose scissors\n",
            "Do you want to play the game y/n - n\n"
          ]
        }
      ],
      "source": [
        "import random\n",
        "\n",
        "userinput= input('Do you want to play the game y/n - ')\n",
        "while userinput == \"y\":\n",
        "  Player = input(\"Enter rock, paper, or scissors: \")\n",
        "  Pc = random.choice(['rock','paper','scissors'])\n",
        "\n",
        "  if Player == Pc:\n",
        "    print(f\"Tie! player chose {Player} and computer chose {Pc}\")\n",
        "  elif Player == \"rock\" and Pc == \"scissors\" or Player == \"paper\" and Pc == \"rock\" or Player == \"scissors\" and Pc == \"paper\":\n",
        "    print(f\"player wins! player chose {Player} and computer chose {Pc}\")\n",
        "  else:\n",
        "    print(f\"player loses! player chose {Player} and computer chose {Pc}\")\n",
        "  userinput = input('Do you want to play the game y/n - ')"
      ]
    }
  ]
}