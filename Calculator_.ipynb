{
  "nbformat": 4,
  "nbformat_minor": 0,
  "metadata": {
    "colab": {
      "provenance": [],
      "authorship_tag": "ABX9TyOdZOWB8cdR5TQweHwDxjnf",
      "include_colab_link": true
    },
    "kernelspec": {
      "name": "python3",
      "display_name": "Python 3"
    },
    "language_info": {
      "name": "python"
    }
  },
  "cells": [
    {
      "cell_type": "markdown",
      "metadata": {
        "id": "view-in-github",
        "colab_type": "text"
      },
      "source": [
        "<a href=\"https://colab.research.google.com/github/VictorGamboaa/BTE-320/blob/main/Calculator_.ipynb\" target=\"_parent\"><img src=\"https://colab.research.google.com/assets/colab-badge.svg\" alt=\"Open In Colab\"/></a>"
      ]
    },
    {
      "cell_type": "code",
      "execution_count": 3,
      "metadata": {
        "colab": {
          "base_uri": "https://localhost:8080/"
        },
        "id": "cHtjiSWIqyvh",
        "outputId": "9d7eab7e-1d15-4c3a-ef5d-a0e6256b86eb"
      },
      "outputs": [
        {
          "output_type": "stream",
          "name": "stdout",
          "text": [
            "Enter the operator (+, -, *, /, //, %, ^): break\n",
            "Calculator is now exiting...\n"
          ]
        }
      ],
      "source": [
        "while True:\n",
        "\n",
        "    operator = input(\"Enter the operator (+, -, *, /, //, %, ^): \")\n",
        "\n",
        "\n",
        "    if operator == 'break':\n",
        "        print(\"Exiting Calculator\")\n",
        "        break\n",
        "\n",
        "\n",
        "    num1 = float(input(\"Enter the first number: \"))\n",
        "    num2 = float(input(\"Enter the second number: \"))\n",
        "\n",
        "    if operator == '+':\n",
        "        result = num1 + num2\n",
        "    elif operator == '-':\n",
        "        result = num1 - num2\n",
        "    elif operator == '*':\n",
        "        result = num1 * num2\n",
        "    elif operator == '/':\n",
        "        if num2 == 0:\n",
        "            print(\"Error: Division by zero\")\n",
        "            continue\n",
        "        result = num1 / num2\n",
        "    elif operator == '//':\n",
        "        if num2 == 0:\n",
        "            print(\"Error: Division by zero\")\n",
        "            continue\n",
        "        result = num1 // num2\n",
        "    elif operator == '%':\n",
        "        if num2 == 0:\n",
        "            print(\"Error: Modulo by zero\")\n",
        "            continue\n",
        "        result = num1 % num2\n",
        "    elif operator == '**':\n",
        "        result = num1 ** 2\n",
        "\n",
        "    print(\"Result:\", result)\n"
      ]
    },
    {
      "cell_type": "code",
      "source": [],
      "metadata": {
        "id": "zgdBxmF4thu7"
      },
      "execution_count": null,
      "outputs": []
    }
  ]
}